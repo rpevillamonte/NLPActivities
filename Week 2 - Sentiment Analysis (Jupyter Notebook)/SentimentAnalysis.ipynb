{
 "cells": [
  {
   "cell_type": "code",
   "execution_count": 23,
   "id": "be802f18",
   "metadata": {},
   "outputs": [
    {
     "name": "stdout",
     "output_type": "stream",
     "text": [
      "Average polarity of paragraph is %.2f. -0.07847222222222221\n",
      "Average subjectivity of paragraph is $.2f. 0.7374999999999999\n"
     ]
    },
    {
     "data": {
      "text/plain": [
       "'Bees'"
      ]
     },
     "execution_count": 23,
     "metadata": {},
     "output_type": "execute_result"
    }
   ],
   "source": [
    "from textblob import TextBlob, Word\n",
    "\n",
    "para = \"\"\"\n",
    "According to all known laws of aviation, there is no way a bee should be able to fly.\n",
    "Its wings are too small to get its fat little body off the ground.\n",
    "The bee, of course, flies anyway because bees don't care what humans think is impossible.\n",
    "\"\"\" \n",
    "\n",
    "result = TextBlob(para)\n",
    "\n",
    "total_pol = 0\n",
    "total_subj = 0\n",
    "\n",
    "for sentence in result.sentences:\n",
    "    sentiment = sentence.sentiment\n",
    "    total_pol += sentiment.polarity\n",
    "    total_subj += sentiment.subjectivity\n",
    "    \n",
    "avg_pol = total_pol / len(result.sentences)\n",
    "avg_subj = total_subj / len(result.sentences)\n",
    "    \n",
    "print(f'Average polarity of paragraph is {avg_pol}.')\n",
    "print(f'Average subjectivity of paragraph is {avg_subj}.')\n",
    "    \n",
    "w = Word(\"Bee\")\n",
    "w.pluralize()"
   ]
  },
  {
   "cell_type": "code",
   "execution_count": null,
   "id": "d17fe946",
   "metadata": {},
   "outputs": [],
   "source": []
  }
 ],
 "metadata": {
  "kernelspec": {
   "display_name": "Python 3",
   "language": "python",
   "name": "python3"
  },
  "language_info": {
   "codemirror_mode": {
    "name": "ipython",
    "version": 3
   },
   "file_extension": ".py",
   "mimetype": "text/x-python",
   "name": "python",
   "nbconvert_exporter": "python",
   "pygments_lexer": "ipython3",
   "version": "3.9.2"
  }
 },
 "nbformat": 4,
 "nbformat_minor": 5
}
