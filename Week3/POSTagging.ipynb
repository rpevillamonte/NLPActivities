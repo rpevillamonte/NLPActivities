{
 "cells": [
  {
   "cell_type": "code",
   "execution_count": null,
   "id": "f519e07f",
   "metadata": {},
   "outputs": [],
   "source": [
    "import nltk\n",
    "from nltk.corpus import abc\n",
    "from nltk.tokenize import PunktSentenceTokenizer\n",
    "\n",
    "train_text = abc.raw(\"rural.txt\")\n",
    "#sample_text = abc.raw(\"science.txt\")\n",
    "sample_text = \"She just read a book about the emancipation of women.\"\n",
    "\n",
    "#print(abc.fileids())\n",
    "\n",
    "custom_sent_tokenizer = PunktSentenceTokenizer(train_text)\n",
    "\n",
    "tokenized = custom_sent_tokenizer.tokenize(sample_text)\n",
    "\n",
    "def process_content():\n",
    "    try:\n",
    "        words = nltk.word_tokenize(sample_text)\n",
    "        tagged = nltk.pos_tag(words)\n",
    "            \n",
    "        #print(nltk.tag.str2tuple('hello/VB'))\n",
    "            \n",
    "        #chunkGram = (\"\"\"Chunk: {<RB.?>*<VB.?>*<NNP><NN>?}\"\"\")\n",
    "        \n",
    "        chunkGram = ('''\n",
    "            NP: {(<DT>?<JJ>*(<NN>|<NN.>)+<IN>?)+} #Noun Phrase\n",
    "            VP: {(<MD>*(<VB>|<VB.>)+<NP>*(<RB>|<RB.>)*)+} #Verb Phrase\n",
    "            ''')\n",
    "                \n",
    "        chunkParser = nltk.RegexpParser(chunkGram)\n",
    "        chunked = chunkParser.parse(tagged)\n",
    "        #for subtree in chunked.subtrees():\n",
    "         #   print(subtree)\n",
    "        \n",
    "        #NP: {(<DT>?<JJ>*(<NN>|<NN.>)+<IN>?)+} # Noun Phrase   \n",
    "        #VP: {(<MD>*(<VB>|<VB.>)+<IN>?(<RB>|<RB.>)*)+} #Verb Phrase\n",
    "        #PP: {(<IN>?<NP>+)+} #Preposition Phrase\n",
    "            \n",
    "        chunked.draw()\n",
    "            \n",
    "        #print(chunked)\n",
    "            \n",
    "            #print(tagged)\n",
    "    except Exception as e:\n",
    "        print(str(e))\n",
    "        \n",
    "process_content()"
   ]
  },
  {
   "cell_type": "code",
   "execution_count": null,
   "id": "b4483c9e",
   "metadata": {},
   "outputs": [],
   "source": [
    "print(nltk.tagset())"
   ]
  },
  {
   "cell_type": "code",
   "execution_count": null,
   "id": "8acf69cf",
   "metadata": {},
   "outputs": [],
   "source": []
  }
 ],
 "metadata": {
  "kernelspec": {
   "display_name": "Python 3",
   "language": "python",
   "name": "python3"
  },
  "language_info": {
   "codemirror_mode": {
    "name": "ipython",
    "version": 3
   },
   "file_extension": ".py",
   "mimetype": "text/x-python",
   "name": "python",
   "nbconvert_exporter": "python",
   "pygments_lexer": "ipython3",
   "version": "3.9.2"
  }
 },
 "nbformat": 4,
 "nbformat_minor": 5
}
